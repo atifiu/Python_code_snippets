{
 "cells": [
  {
   "cell_type": "markdown",
   "id": "2cbf3587",
   "metadata": {},
   "source": [
    "#### ❇️ Iterrows 🤜 🤛  Itertuples "
   ]
  },
  {
   "cell_type": "code",
   "execution_count": 2,
   "id": "fad4b71b",
   "metadata": {},
   "outputs": [],
   "source": [
    "import pandas as pd"
   ]
  },
  {
   "cell_type": "code",
   "execution_count": 9,
   "id": "11d217dd",
   "metadata": {},
   "outputs": [
    {
     "data": {
      "text/html": [
       "<div>\n",
       "<style scoped>\n",
       "    .dataframe tbody tr th:only-of-type {\n",
       "        vertical-align: middle;\n",
       "    }\n",
       "\n",
       "    .dataframe tbody tr th {\n",
       "        vertical-align: top;\n",
       "    }\n",
       "\n",
       "    .dataframe thead th {\n",
       "        text-align: right;\n",
       "    }\n",
       "</style>\n",
       "<table border=\"1\" class=\"dataframe\">\n",
       "  <thead>\n",
       "    <tr style=\"text-align: right;\">\n",
       "      <th></th>\n",
       "      <th>Country Name</th>\n",
       "      <th>Country Code</th>\n",
       "      <th>Indicator Name</th>\n",
       "      <th>Year</th>\n",
       "      <th>Pop</th>\n",
       "    </tr>\n",
       "  </thead>\n",
       "  <tbody>\n",
       "    <tr>\n",
       "      <th>107</th>\n",
       "      <td>India</td>\n",
       "      <td>IND</td>\n",
       "      <td>Population, total</td>\n",
       "      <td>2010</td>\n",
       "      <td>1.234281e+09</td>\n",
       "    </tr>\n",
       "    <tr>\n",
       "      <th>371</th>\n",
       "      <td>India</td>\n",
       "      <td>IND</td>\n",
       "      <td>Population, total</td>\n",
       "      <td>2011</td>\n",
       "      <td>1.250289e+09</td>\n",
       "    </tr>\n",
       "    <tr>\n",
       "      <th>635</th>\n",
       "      <td>India</td>\n",
       "      <td>IND</td>\n",
       "      <td>Population, total</td>\n",
       "      <td>2012</td>\n",
       "      <td>1.265783e+09</td>\n",
       "    </tr>\n",
       "    <tr>\n",
       "      <th>899</th>\n",
       "      <td>India</td>\n",
       "      <td>IND</td>\n",
       "      <td>Population, total</td>\n",
       "      <td>2012</td>\n",
       "      <td>1.265783e+09</td>\n",
       "    </tr>\n",
       "    <tr>\n",
       "      <th>1163</th>\n",
       "      <td>India</td>\n",
       "      <td>IND</td>\n",
       "      <td>Population, total</td>\n",
       "      <td>2013</td>\n",
       "      <td>1.280846e+09</td>\n",
       "    </tr>\n",
       "  </tbody>\n",
       "</table>\n",
       "</div>"
      ],
      "text/plain": [
       "     Country Name Country Code     Indicator Name  Year           Pop\n",
       "107         India          IND  Population, total  2010  1.234281e+09\n",
       "371         India          IND  Population, total  2011  1.250289e+09\n",
       "635         India          IND  Population, total  2012  1.265783e+09\n",
       "899         India          IND  Population, total  2012  1.265783e+09\n",
       "1163        India          IND  Population, total  2013  1.280846e+09"
      ]
     },
     "execution_count": 9,
     "metadata": {},
     "output_type": "execute_result"
    }
   ],
   "source": [
    "# Reading from a csv\n",
    "worldbank_pop = pd.read_csv('./data/WorldBank_POP.csv')\n",
    "worldbank_pop.columns\n",
    "worldbank_pop[worldbank_pop['Country Code'].isin(['IND'])]\n",
    "worldbank_pop_ind = worldbank_pop.loc[worldbank_pop['Country Code'].isin(['IND']) ]\n",
    "worldbank_pop_ind.head()"
   ]
  },
  {
   "cell_type": "code",
   "execution_count": 3,
   "id": "f060a58d",
   "metadata": {},
   "outputs": [
    {
     "name": "stdout",
     "output_type": "stream",
     "text": [
      "0\n",
      "_______________________________\n",
      "species                 Adelie\n",
      "island               Torgersen\n",
      "bill_length_mm            39.1\n",
      "bill_depth_mm             18.7\n",
      "flipper_length_mm        181.0\n",
      "body_mass_g             3750.0\n",
      "sex                       Male\n",
      "Name: 0, dtype: object\n",
      "__________time taken___________\n",
      "CPU times: user 12.6 ms, sys: 1.29 ms, total: 13.9 ms\n",
      "Wall time: 16 ms\n"
     ]
    }
   ],
   "source": [
    "%%time\n",
    "# 🔴 iterrows: Iterate over DataFrame rows as (index, Series) pairs.\n",
    "index_series_pairs = [tup for tup in df_penguins.iterrows()]\n",
    "idx, series = index_series_pairs[0]\n",
    "print(idx)\n",
    "print('_______________________________')\n",
    "print(series)\n",
    "print('__________time taken___________')"
   ]
  },
  {
   "cell_type": "code",
   "execution_count": 4,
   "id": "8ed08b2e",
   "metadata": {},
   "outputs": [
    {
     "name": "stdout",
     "output_type": "stream",
     "text": [
      "Pandas(Index=0, species='Adelie', island='Torgersen', bill_length_mm=39.1, bill_depth_mm=18.7, flipper_length_mm=181.0, body_mass_g=3750.0, sex='Male')\n",
      "__________time taken___________\n",
      "CPU times: user 1.36 ms, sys: 341 µs, total: 1.7 ms\n",
      "Wall time: 1.48 ms\n"
     ]
    }
   ],
   "source": [
    "%%time\n",
    "# 🟡 itertuples: Iterate over DataFrame rows as namedtuples.\n",
    "# Wondering what a namedtuple is❓ I have added a tweet👇 in the thread 🧵 , don't worry 🙌\n",
    "named_tuples = [tup for tup in df_penguins.itertuples()]\n",
    "print(named_tuples[0])\n",
    "print('__________time taken___________')"
   ]
  },
  {
   "cell_type": "markdown",
   "id": "f54719aa",
   "metadata": {},
   "source": [
    "#### ❇️ Concluding remarks 👇 \n",
    "##### Although, it's an anti pattern to iterate over dataframe rows in this manner\n",
    "##### (We will see better techniques in future post, stay tuned!)\n",
    "##### 👉 But, given the choice itertuples is way fater 🏎💨 than iterrows because iterrows has to typecast each\n",
    "##### row into a pandas Series, which is an overhead.\n",
    "#### ❇️ Cheers!! 🍻 "
   ]
  },
  {
   "cell_type": "code",
   "execution_count": null,
   "id": "e71953eb",
   "metadata": {},
   "outputs": [],
   "source": []
  }
 ],
 "metadata": {
  "kernelspec": {
   "display_name": "Python 3 (ipykernel)",
   "language": "python",
   "name": "python3"
  },
  "language_info": {
   "codemirror_mode": {
    "name": "ipython",
    "version": 3
   },
   "file_extension": ".py",
   "mimetype": "text/x-python",
   "name": "python",
   "nbconvert_exporter": "python",
   "pygments_lexer": "ipython3",
   "version": "3.8.8"
  }
 },
 "nbformat": 4,
 "nbformat_minor": 5
}
