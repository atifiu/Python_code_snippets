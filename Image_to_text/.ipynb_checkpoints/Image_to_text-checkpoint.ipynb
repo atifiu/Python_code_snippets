{
 "cells": [
  {
   "cell_type": "markdown",
   "id": "826ea9e5",
   "metadata": {},
   "source": [
    "### 👉 Import required libraries"
   ]
  },
  {
   "cell_type": "code",
   "execution_count": null,
   "id": "8375392b",
   "metadata": {},
   "outputs": [],
   "source": [
    "# import the following libraries\n",
    "# will convert the image to text string\n",
    "import pytesseract      \n",
    "  \n",
    "# adds image processing capabilities\n",
    "from PIL import Image "
   ]
  },
  {
   "cell_type": "markdown",
   "id": "cca8dca1",
   "metadata": {},
   "source": [
    "### 👉 Reading the image file and then converting it to txt file"
   ]
  },
  {
   "cell_type": "code",
   "execution_count": 15,
   "id": "1341cb03",
   "metadata": {},
   "outputs": [
    {
     "name": "stdout",
     "output_type": "stream",
     "text": [
      "eee\n",
      "\n",
      "# Rewrite this as a list comprehension.\n",
      "# This isn't necessarily the best comprehension ever...\n",
      "# But it's a nice exercise on conditional expressions VS filtering.\n",
      "\n",
      "# Original data:\n",
      "# contains numbers, strings, and missing values :(\n",
      "percentages = [12, \"23.5\", None, 98.125, None, \"73\"]\n",
      "\n",
      "formatted_percentages = []\n",
      "for p in percentages:\n",
      "if p is not None:\n",
      "if isinstance(p, str):\n",
      "formatted_percentages.append(f\"{float(p):.2f}%\")\n",
      "else:\n",
      "formatted_percentages.append(f\"{p:.2f}%\")\n",
      "\n",
      "\n"
     ]
    }
   ],
   "source": [
    " # opening an image from the source path\n",
    "img = Image.open(r'./image/list_comprehension_06072022.jpg')     \n",
    "  \n",
    "# describes image format in the output\n",
    "#print(img)                          \n",
    "# path where the tesseract module is installed\n",
    "pytesseract.pytesseract.tesseract_cmd =r'C:\\Program Files\\Tesseract-OCR\\tesseract.exe'   \n",
    "# converts the image to result and saves it into result variable\n",
    "result = pytesseract.image_to_string(img)\n",
    "print(result)\n",
    "# write text in a text file and save it to source path   \n",
    "with open(r'./text_file/list_comprehension_06072022.txt',mode ='w') as file:     \n",
    "    file.write(result)\n",
    "    #print(result)"
   ]
  },
  {
   "cell_type": "code",
   "execution_count": null,
   "id": "75395b4d",
   "metadata": {},
   "outputs": [],
   "source": []
  },
  {
   "cell_type": "code",
   "execution_count": null,
   "id": "8ea93917",
   "metadata": {},
   "outputs": [],
   "source": []
  },
  {
   "cell_type": "code",
   "execution_count": null,
   "id": "c2f987c1",
   "metadata": {},
   "outputs": [],
   "source": []
  },
  {
   "cell_type": "code",
   "execution_count": null,
   "id": "ab312f4e",
   "metadata": {},
   "outputs": [],
   "source": []
  },
  {
   "cell_type": "code",
   "execution_count": null,
   "id": "7e05cfd1",
   "metadata": {},
   "outputs": [],
   "source": []
  }
 ],
 "metadata": {
  "kernelspec": {
   "display_name": "Python 3 (ipykernel)",
   "language": "python",
   "name": "python3"
  },
  "language_info": {
   "codemirror_mode": {
    "name": "ipython",
    "version": 3
   },
   "file_extension": ".py",
   "mimetype": "text/x-python",
   "name": "python",
   "nbconvert_exporter": "python",
   "pygments_lexer": "ipython3",
   "version": "3.9.5"
  }
 },
 "nbformat": 4,
 "nbformat_minor": 5
}
