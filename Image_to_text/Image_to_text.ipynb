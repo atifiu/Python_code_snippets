{
 "cells": [
  {
   "cell_type": "markdown",
   "id": "826ea9e5",
   "metadata": {},
   "source": [
    "### 👉 Import required libraries"
   ]
  },
  {
   "cell_type": "code",
   "execution_count": 14,
   "id": "8375392b",
   "metadata": {},
   "outputs": [],
   "source": [
    "# import the following libraries\n",
    "# will convert the image to text string\n",
    "import pytesseract\n",
    "\n",
    "# adds image processing capabilities\n",
    "from PIL import Image\n",
    "\n",
    "# to check file is written\n",
    "from os.path import exists"
   ]
  },
  {
   "cell_type": "markdown",
   "id": "cca8dca1",
   "metadata": {},
   "source": [
    "### 👉 Reading the image file and then converting it to txt file"
   ]
  },
  {
   "cell_type": "code",
   "execution_count": 15,
   "id": "1341cb03",
   "metadata": {},
   "outputs": [
    {
     "name": "stdout",
     "output_type": "stream",
     "text": [
      "File writing done\n"
     ]
    }
   ],
   "source": [
    "# opening an image from the source path\n",
    "filename = \"list_comprehension_06072022\"\n",
    "img = Image.open(r'./image/'+filename+'.jpg')\n",
    "\n",
    "# describes image format in the output\n",
    "#print(img)\n",
    "# path where the tesseract module is installed\n",
    "pytesseract.pytesseract.tesseract_cmd = r'C:\\Program Files\\Tesseract-OCR\\tesseract.exe'\n",
    "# converts the image to result and saves it into result variable\n",
    "result = pytesseract.image_to_string(img)\n",
    "# write text in a text file and save it to source path\n",
    "with open(r'./text_file/'+filename+'.txt', mode='w') as file:\n",
    "    file.write(result)\n",
    "    #print(result)\n",
    "file_exists = exists(r'./text_file/'+filename+'.txt')\n",
    "print(\"File writing done\") if file_exists else print(\"Issue with file writing\")"
   ]
  }
 ],
 "metadata": {
  "kernelspec": {
   "display_name": "Python 3 (ipykernel)",
   "language": "python",
   "name": "python3"
  },
  "language_info": {
   "codemirror_mode": {
    "name": "ipython",
    "version": 3
   },
   "file_extension": ".py",
   "mimetype": "text/x-python",
   "name": "python",
   "nbconvert_exporter": "python",
   "pygments_lexer": "ipython3",
   "version": "3.9.5"
  }
 },
 "nbformat": 4,
 "nbformat_minor": 5
}
