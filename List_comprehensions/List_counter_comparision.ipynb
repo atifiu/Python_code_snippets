{
 "cells": [
  {
   "cell_type": "code",
   "execution_count": 17,
   "id": "dc24c3be",
   "metadata": {},
   "outputs": [
    {
     "name": "stdout",
     "output_type": "stream",
     "text": [
      "CPU times: total: 31.2 ms\n",
      "Wall time: 23.5 ms\n"
     ]
    }
   ],
   "source": [
    "%%time\n",
    "number_list = sorted([*[x for x in range(100000)], *[x for x in range(100000)]])"
   ]
  },
  {
   "cell_type": "code",
   "execution_count": null,
   "id": "bde13a5d",
   "metadata": {},
   "outputs": [],
   "source": [
    "print(len(number_list))"
   ]
  },
  {
   "cell_type": "markdown",
   "id": "347d82e3",
   "metadata": {},
   "source": [
    "<span style='color:green'>\n",
    "\n",
    "# Comparing the performance of different approaches to create a dictionary containing the count of number of occurences of  message/text </span>"
   ]
  },
  {
   "cell_type": "markdown",
   "id": "0c71ee21",
   "metadata": {},
   "source": [
    "### Using dictionary comprehension"
   ]
  },
  {
   "cell_type": "code",
   "execution_count": 18,
   "id": "5f8f0903",
   "metadata": {},
   "outputs": [
    {
     "name": "stdout",
     "output_type": "stream",
     "text": [
      "CPU times: total: 9min 20s\n",
      "Wall time: 9min 40s\n"
     ]
    }
   ],
   "source": [
    "%%time\n",
    "occurence_count = {number:number_list.count(number) for number in number_list}"
   ]
  },
  {
   "cell_type": "markdown",
   "id": "4df5b565",
   "metadata": {},
   "source": [
    "### Using dictionary comprehension with set"
   ]
  },
  {
   "cell_type": "code",
   "execution_count": 19,
   "id": "6da4acb7",
   "metadata": {},
   "outputs": [
    {
     "name": "stdout",
     "output_type": "stream",
     "text": [
      "CPU times: total: 4min 48s\n",
      "Wall time: 5min 10s\n"
     ]
    }
   ],
   "source": [
    "%%time\n",
    "occurence_count = {number:number_list.count(number) for number in set(number_list)}"
   ]
  },
  {
   "cell_type": "markdown",
   "id": "5d374445",
   "metadata": {},
   "source": [
    "### Using Counter "
   ]
  },
  {
   "cell_type": "code",
   "execution_count": 31,
   "id": "904e3dec",
   "metadata": {},
   "outputs": [
    {
     "name": "stdout",
     "output_type": "stream",
     "text": [
      "CPU times: total: 15.6 ms\n",
      "Wall time: 24.2 ms\n"
     ]
    }
   ],
   "source": [
    "%%time\n",
    "from collections import Counter\n",
    "occurence_count = Counter(number_list)"
   ]
  },
  {
   "cell_type": "markdown",
   "id": "8232fd04",
   "metadata": {},
   "source": [
    "### Using traditiontal loop approach"
   ]
  },
  {
   "cell_type": "code",
   "execution_count": 33,
   "id": "71ae582a",
   "metadata": {},
   "outputs": [
    {
     "name": "stdout",
     "output_type": "stream",
     "text": [
      "CPU times: total: 78.1 ms\n",
      "Wall time: 77 ms\n"
     ]
    }
   ],
   "source": [
    "%%time\n",
    "occurence_count = {}\n",
    "for items in number_list:\n",
    "    if items in occurence_count.keys():\n",
    "        occurence_count[items]+=1\n",
    "    else:\n",
    "        occurence_count[items] = 1\n",
    "        "
   ]
  },
  {
   "cell_type": "code",
   "execution_count": 35,
   "id": "7edfa30e",
   "metadata": {},
   "outputs": [],
   "source": [
    "list1 = [11, 12]\n",
    "list1.append([13,13])"
   ]
  },
  {
   "cell_type": "code",
   "execution_count": 51,
   "id": "337c61e1",
   "metadata": {},
   "outputs": [
    {
     "name": "stdout",
     "output_type": "stream",
     "text": [
      "time.struct_time(tm_year=2017, tm_mon=1, tm_mday=21, tm_hour=0, tm_min=0, tm_sec=0, tm_wday=5, tm_yday=21, tm_isdst=-1)\n"
     ]
    }
   ],
   "source": [
    "import time\n",
    "\n",
    "str = '21/01/2017'\n",
    "\n",
    "datetime_value = time.strptime(str,\"%d/%m/%Y\")\n",
    "print(datetime_value)"
   ]
  },
  {
   "cell_type": "code",
   "execution_count": 53,
   "id": "81709ac6",
   "metadata": {},
   "outputs": [
    {
     "name": "stdout",
     "output_type": "stream",
     "text": [
      "[1, 2, 3, [4, 5, 6]]\n"
     ]
    }
   ],
   "source": [
    "a = [1,2,3]\n",
    "b = [4, 5, 6]\n",
    "a.append(b)\n",
    "print(a)"
   ]
  },
  {
   "cell_type": "code",
   "execution_count": 58,
   "id": "9096c6aa",
   "metadata": {},
   "outputs": [
    {
     "name": "stdout",
     "output_type": "stream",
     "text": [
      "{1}\n"
     ]
    }
   ],
   "source": [
    "set = {1, True}\n",
    "print(set)"
   ]
  }
 ],
 "metadata": {
  "kernelspec": {
   "display_name": "Python 3 (ipykernel)",
   "language": "python",
   "name": "python3"
  },
  "language_info": {
   "codemirror_mode": {
    "name": "ipython",
    "version": 3
   },
   "file_extension": ".py",
   "mimetype": "text/x-python",
   "name": "python",
   "nbconvert_exporter": "python",
   "pygments_lexer": "ipython3",
   "version": "3.8.8"
  }
 },
 "nbformat": 4,
 "nbformat_minor": 5
}
