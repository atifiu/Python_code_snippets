{
 "cells": [
  {
   "cell_type": "code",
   "execution_count": 17,
   "id": "9e881a10",
   "metadata": {},
   "outputs": [
    {
     "name": "stdout",
     "output_type": "stream",
     "text": [
      "CPU times: total: 31.2 ms\n",
      "Wall time: 23.5 ms\n"
     ]
    }
   ],
   "source": [
    "%%time\n",
    "number_list = sorted([*[x for x in range(100000)], *[x for x in range(100000)]])"
   ]
  },
  {
   "cell_type": "code",
   "execution_count": null,
   "id": "7e20585f",
   "metadata": {},
   "outputs": [],
   "source": [
    "print(len(number_list))"
   ]
  },
  {
   "cell_type": "markdown",
   "id": "02845bf5",
   "metadata": {},
   "source": [
    "<span style='color:green'>\n",
    "\n",
    "# Comparing the performance of different approaches to create a dictionary containing the count of number of occurences of  message/text </span>"
   ]
  },
  {
   "cell_type": "markdown",
   "id": "d59fcaa7",
   "metadata": {},
   "source": [
    "### Using dictionary comprehension"
   ]
  },
  {
   "cell_type": "code",
   "execution_count": 18,
   "id": "0c27100c",
   "metadata": {},
   "outputs": [
    {
     "name": "stdout",
     "output_type": "stream",
     "text": [
      "CPU times: total: 9min 20s\n",
      "Wall time: 9min 40s\n"
     ]
    }
   ],
   "source": [
    "%%time\n",
    "occurence_count = {number:number_list.count(number) for number in number_list}"
   ]
  },
  {
   "cell_type": "markdown",
   "id": "ceb6abe3",
   "metadata": {},
   "source": [
    "### Using dictionary comprehension with set"
   ]
  },
  {
   "cell_type": "code",
   "execution_count": 19,
   "id": "3adf7fda",
   "metadata": {},
   "outputs": [
    {
     "name": "stdout",
     "output_type": "stream",
     "text": [
      "CPU times: total: 4min 48s\n",
      "Wall time: 5min 10s\n"
     ]
    }
   ],
   "source": [
    "%%time\n",
    "occurence_count = {number:number_list.count(number) for number in set(number_list)}"
   ]
  },
  {
   "cell_type": "markdown",
   "id": "90cb3102",
   "metadata": {},
   "source": [
    "### Using Counter "
   ]
  },
  {
   "cell_type": "code",
   "execution_count": 31,
   "id": "57f9bf72",
   "metadata": {},
   "outputs": [
    {
     "name": "stdout",
     "output_type": "stream",
     "text": [
      "CPU times: total: 15.6 ms\n",
      "Wall time: 24.2 ms\n"
     ]
    }
   ],
   "source": [
    "%%time\n",
    "from collections import Counter\n",
    "occurence_count = Counter(number_list)"
   ]
  },
  {
   "cell_type": "markdown",
   "id": "372459a8",
   "metadata": {},
   "source": [
    "### Using traditiontal loop approach"
   ]
  },
  {
   "cell_type": "code",
   "execution_count": 33,
   "id": "a33f4208",
   "metadata": {},
   "outputs": [
    {
     "name": "stdout",
     "output_type": "stream",
     "text": [
      "CPU times: total: 78.1 ms\n",
      "Wall time: 77 ms\n"
     ]
    }
   ],
   "source": [
    "%%time\n",
    "occurence_count = {}\n",
    "for items in number_list:\n",
    "    if items in occurence_count.keys():\n",
    "        occurence_count[items]+=1\n",
    "    else:\n",
    "        occurence_count[items] = 1\n",
    "        "
   ]
  }
 ],
 "metadata": {
  "kernelspec": {
   "display_name": "Python 3 (ipykernel)",
   "language": "python",
   "name": "python3"
  },
  "language_info": {
   "codemirror_mode": {
    "name": "ipython",
    "version": 3
   },
   "file_extension": ".py",
   "mimetype": "text/x-python",
   "name": "python",
   "nbconvert_exporter": "python",
   "pygments_lexer": "ipython3",
   "version": "3.8.8"
  }
 },
 "nbformat": 4,
 "nbformat_minor": 5
}
