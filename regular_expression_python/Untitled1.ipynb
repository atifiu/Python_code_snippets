{
 "cells": [
  {
   "cell_type": "code",
   "execution_count": 8,
   "id": "ba626111",
   "metadata": {},
   "outputs": [
    {
     "name": "stdout",
     "output_type": "stream",
     "text": [
      "ALL names have length 5 or more.\n",
      "Alice\n"
     ]
    }
   ],
   "source": [
    "names =  [\"Alice\", \"Bobby\", \"Charles\", \"Diana\"]\n",
    "if any(len(tested := name) >= 5 for name in names):\n",
    "    print(\"ALL names have length 5 or more.\")\n",
    "else:\n",
    "    #pass\n",
    "    print(f\"The name {tested} is too short.\")\n",
    "print(f\"{tested}\")"
   ]
  },
  {
   "cell_type": "code",
   "execution_count": null,
   "id": "0f9a7f06",
   "metadata": {},
   "outputs": [],
   "source": []
  }
 ],
 "metadata": {
  "kernelspec": {
   "display_name": "Python 3 (ipykernel)",
   "language": "python",
   "name": "python3"
  },
  "language_info": {
   "codemirror_mode": {
    "name": "ipython",
    "version": 3
   },
   "file_extension": ".py",
   "mimetype": "text/x-python",
   "name": "python",
   "nbconvert_exporter": "python",
   "pygments_lexer": "ipython3",
   "version": "3.9.5"
  }
 },
 "nbformat": 4,
 "nbformat_minor": 5
}
