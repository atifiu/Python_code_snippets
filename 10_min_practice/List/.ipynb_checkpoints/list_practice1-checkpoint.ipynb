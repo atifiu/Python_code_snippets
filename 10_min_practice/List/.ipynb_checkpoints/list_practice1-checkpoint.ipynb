{
 "cells": [
  {
   "cell_type": "code",
   "execution_count": null,
   "id": "69a5f9b0",
   "metadata": {},
   "outputs": [],
   "source": [
    "#Reference https://towardsdatascience.com/learning-python-10-minutes-a-day-7-5390dd024178"
   ]
  },
  {
   "cell_type": "code",
   "execution_count": 1,
   "id": "a34763dd",
   "metadata": {},
   "outputs": [
    {
     "name": "stdout",
     "output_type": "stream",
     "text": [
      "['apples', 'pears', 'cherries']\n",
      "['apples', 'pears', 'cherries', 'bananas']\n",
      "['apples', 'pears', 'cherries']\n",
      "bananas\n"
     ]
    }
   ],
   "source": [
    "# Create an empty list\n",
    "my_list = list()\n",
    "short_list = []\n",
    "\n",
    "# Create list with items and 'mix & match' data types\n",
    "some_fruit = ['apples', 'pears', 'cherries']\n",
    "mixed_list = [0, 'cake', 3.14159, print]\n",
    "\n",
    "# Append to a list\n",
    "print(some_fruit)\n",
    "some_fruit.append('bananas')\n",
    "print(some_fruit)\n",
    "\n",
    "# Get items from a list\n",
    "fruit = some_fruit.pop()\n",
    "print(some_fruit)\n",
    "print(fruit)"
   ]
  },
  {
   "cell_type": "code",
   "execution_count": 2,
   "id": "84edcce5",
   "metadata": {},
   "outputs": [
    {
     "name": "stdout",
     "output_type": "stream",
     "text": [
      "Number id: 140724247079856\n",
      "Number id: 140724247079888\n",
      "List id: 2756319512320\n",
      "List id: 2756319512320\n"
     ]
    }
   ],
   "source": [
    "number = 37\n",
    "print('Number id:', id(number))\n",
    "\n",
    "number = number + 1\n",
    "print('Number id:', id(number))\n",
    "\n",
    "my_list = [1, 2, 3]\n",
    "print('List id:', id(my_list))\n",
    "\n",
    "my_list.append(4)\n",
    "print('List id:', id(my_list))"
   ]
  },
  {
   "cell_type": "code",
   "execution_count": 14,
   "id": "84fbe6a7",
   "metadata": {},
   "outputs": [
    {
     "name": "stdout",
     "output_type": "stream",
     "text": [
      "['apples', 'pears', 'cherries']\n",
      "2756319507328\n",
      "['cherries', 'pears', 'apples']\n",
      "2756339828352\n",
      "2756339828352\n",
      "2756323994816\n",
      "2756339831744\n"
     ]
    }
   ],
   "source": [
    "print(some_fruit)\n",
    "print(id(some_fruit))\n",
    "print(some_fruit[::-1])\n",
    "new_fruit = some_fruit[::-1]\n",
    "print(id(new_fruit))\n",
    "#This will not create a new list but just the referencve of old list and hence id will be same\n",
    "new_fruit1 = new_fruit\n",
    "print(id(new_fruit1))\n",
    "#to create new list either use list function or slicing\n",
    "new_fruit2 = list(new_fruit)\n",
    "print(id(new_fruit2))\n",
    "new_fruit3 = new_fruit[::]\n",
    "print(id(new_fruit3))"
   ]
  },
  {
   "cell_type": "code",
   "execution_count": 16,
   "id": "9e35884b",
   "metadata": {},
   "outputs": [
    {
     "name": "stdout",
     "output_type": "stream",
     "text": [
      "empty\n",
      "Non empty new_list2=[1, 2, 3]\n"
     ]
    }
   ],
   "source": [
    "new_list1 = []\n",
    "new_list2 = [1, 2, 3]\n",
    "if new_list1:\n",
    "    print(f\"Non empty {new_list1=}\")\n",
    "else:\n",
    "    print(\"empty\")\n",
    "    \n",
    "if new_list2:\n",
    "    print(f\"Non empty {new_list2=}\")\n",
    "else:\n",
    "    print(\"empty\")"
   ]
  },
  {
   "cell_type": "code",
   "execution_count": 19,
   "id": "500e3b1b",
   "metadata": {},
   "outputs": [
    {
     "name": "stdout",
     "output_type": "stream",
     "text": [
      "a=1\n",
      "b=2\n",
      "c=3\n",
      "<class 'int'>\n"
     ]
    }
   ],
   "source": [
    "#unpacking of list element\n",
    "a, b, c = [*new_list2]\n",
    "print(f\"{a=}\")\n",
    "print(f\"{b=}\")\n",
    "print(f\"{c=}\")\n",
    "print(type(a))"
   ]
  },
  {
   "cell_type": "code",
   "execution_count": 27,
   "id": "bf7bc856",
   "metadata": {},
   "outputs": [
    {
     "name": "stdout",
     "output_type": "stream",
     "text": [
      "[1, 2, 3, 4]\n",
      "[1, 2, 3, 4, [5, 6]]\n"
     ]
    }
   ],
   "source": [
    "new_list = [1, 2, 3]\n",
    "new_list.append(4)\n",
    "print(new_list)\n",
    "new_list.append([5, 6])\n",
    "print(new_list)"
   ]
  },
  {
   "cell_type": "code",
   "execution_count": 30,
   "id": "31ab25d5",
   "metadata": {},
   "outputs": [
    {
     "name": "stdout",
     "output_type": "stream",
     "text": [
      "[1, 2, 3, 4, 5, 6]\n"
     ]
    }
   ],
   "source": [
    "new_list = [1, 2, 3]\n",
    "new_list1 = [4, 5, 6]\n",
    "new_list.extend( new_list1)\n",
    "print(new_list)"
   ]
  },
  {
   "cell_type": "code",
   "execution_count": 39,
   "id": "d9999d5f",
   "metadata": {},
   "outputs": [
    {
     "name": "stdout",
     "output_type": "stream",
     "text": [
      "Thisisalistofwords!\n",
      "This is a list of words !\n"
     ]
    }
   ],
   "source": [
    "mystr =''\n",
    "my_list = ['This', 'is', 'a', 'list', 'of', 'words', '!']\n",
    "for element in my_list:\n",
    "    mystr = mystr+''.join(element)\n",
    "print(mystr)\n",
    "newstr = ' '.join(my_list)\n",
    "print(newstr)"
   ]
  },
  {
   "cell_type": "code",
   "execution_count": 82,
   "id": "51cd74ed",
   "metadata": {},
   "outputs": [
    {
     "name": "stdout",
     "output_type": "stream",
     "text": [
      "36\n",
      "Rob\n",
      "None\n",
      "['Rob', 'Rob', 'Rob', 'Rob', 'Rob', 'Rob', 'Rob', 'Rob', 'Jeroen', 'Jeroen', 'Jeroen', 'Jeroen', 'Jeroen', 'Hendri', 'Hendri', 'Hendri', 'Dennis', 'Dennis', 'Dennis', 'Dennis', 'Dennis', 'Dennis', 'Coen', 'Coen', 'Coen', 'Coen', 'Coen', 'Coen', 'Coen', 'Alfred', 'Alfred', 'Alfred', 'Alfred', 'Alfred', 'Alfred', 'Alfred']\n"
     ]
    }
   ],
   "source": [
    "import pandas as pd\n",
    "coffee_drinkers = [\"Alfred\", \"Dennis\", \"Rob\", \"Coen\", \"Coen\", \"Alfred\", \"Jeroen\", \"Hendri\", \"Alfred\", \"Coen\", \"Rob\", \"Dennis\", \"Rob\", \"Dennis\", \"Rob\", \"Coen\", \"Rob\", \"Alfred\", \"Jeroen\", \"Hendri\", \"Alfred\", \"Coen\", \"Rob\", \"Dennis\", \"Coen\", \"Dennis\", \"Rob\", \"Jeroen\", \"Jeroen\", \"Alfred\", \"Jeroen\", \"Hendri\", \"Alfred\", \"Coen\", \"Rob\", \"Dennis\"]\n",
    "#a) how much coffee was served?\n",
    "print(len(coffee_drinkers))\n",
    "# b) who drank the most coffee?\n",
    "count = pd.Series(coffee_drinkers).value_counts()\n",
    "new_df = count.sort_values(ascending = False).reset_index(drop = False)\n",
    "print(new_df.loc[0, 'index'])\n",
    "c) sort the list in reverse order.\n",
    "new_list = sorted(coffee_drinkers)#.reverse()\n",
    "new_list.reverse()\n",
    "print(new_list)"
   ]
  },
  {
   "cell_type": "code",
   "execution_count": 84,
   "id": "9a8696c5",
   "metadata": {},
   "outputs": [
    {
     "name": "stdout",
     "output_type": "stream",
     "text": [
      "{'Coen', 'Rob', 'Hendri', 'Dennis', 'Alfred', 'Jeroen'}\n",
      "<built-in method count of list object at 0x00000281C9A09F80>\n",
      "Rob\n"
     ]
    }
   ],
   "source": [
    "#c) sort the list in reverse order.\n",
    "def most_common(lst):\n",
    "    print(set(lst))\n",
    "    print(lst.count)\n",
    "    return max(set(lst), key=lst.count)\n",
    "value = most_common(coffee_drinkers)\n",
    "print(value)"
   ]
  }
 ],
 "metadata": {
  "kernelspec": {
   "display_name": "Python 3 (ipykernel)",
   "language": "python",
   "name": "python3"
  },
  "language_info": {
   "codemirror_mode": {
    "name": "ipython",
    "version": 3
   },
   "file_extension": ".py",
   "mimetype": "text/x-python",
   "name": "python",
   "nbconvert_exporter": "python",
   "pygments_lexer": "ipython3",
   "version": "3.8.8"
  }
 },
 "nbformat": 4,
 "nbformat_minor": 5
}
