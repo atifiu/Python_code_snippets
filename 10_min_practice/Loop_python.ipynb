{
 "cells": [
  {
   "cell_type": "markdown",
   "id": "4bdc850e",
   "metadata": {},
   "source": [
    "### a. In a new Notebook, and create a for-loop to loop over all values between 1 and 100 (including 100) and sum over all values. (should be 5050)"
   ]
  },
  {
   "cell_type": "code",
   "execution_count": 3,
   "id": "c474ba0c",
   "metadata": {},
   "outputs": [
    {
     "name": "stdout",
     "output_type": "stream",
     "text": [
      "5050\n"
     ]
    }
   ],
   "source": [
    "total = 0\n",
    "for num in range(1, 101):\n",
    "    total+=num\n",
    "    #print(total)\n",
    "print(total)"
   ]
  },
  {
   "cell_type": "markdown",
   "id": "e293f28e",
   "metadata": {},
   "source": [
    "### Using Generators "
   ]
  },
  {
   "cell_type": "code",
   "execution_count": 26,
   "id": "23413784",
   "metadata": {},
   "outputs": [],
   "source": [
    "def gen_number(num):\n",
    "    value = 1\n",
    "    while value < num:\n",
    "        yield value\n",
    "        value+=1"
   ]
  },
  {
   "cell_type": "code",
   "execution_count": 34,
   "id": "bd360c72",
   "metadata": {},
   "outputs": [
    {
     "name": "stdout",
     "output_type": "stream",
     "text": [
      "5050\n"
     ]
    }
   ],
   "source": [
    "total = 0\n",
    "for i in gen_number(101):\n",
    "    total = total + i\n",
    "print(total)"
   ]
  }
 ],
 "metadata": {
  "kernelspec": {
   "display_name": "Python 3 (ipykernel)",
   "language": "python",
   "name": "python3"
  },
  "language_info": {
   "codemirror_mode": {
    "name": "ipython",
    "version": 3
   },
   "file_extension": ".py",
   "mimetype": "text/x-python",
   "name": "python",
   "nbconvert_exporter": "python",
   "pygments_lexer": "ipython3",
   "version": "3.8.8"
  }
 },
 "nbformat": 4,
 "nbformat_minor": 5
}
